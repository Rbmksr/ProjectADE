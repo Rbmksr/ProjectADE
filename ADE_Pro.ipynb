{
 "cells": [
  {
   "cell_type": "code",
   "execution_count": 1,
   "id": "ff7a69d9-359d-4e41-9797-9fde49108416",
   "metadata": {},
   "outputs": [
    {
     "name": "stderr",
     "output_type": "stream",
     "text": [
      "Setting default log level to \"WARN\".\n",
      "To adjust logging level use sc.setLogLevel(newLevel). For SparkR, use setLogLevel(newLevel).\n",
      "24/12/14 17:01:53 WARN NativeCodeLoader: Unable to load native-hadoop library for your platform... using builtin-java classes where applicable\n"
     ]
    }
   ],
   "source": [
    "from pyspark.sql import SparkSession\n",
    "\n",
    "# Spark-Session starten\n",
    "spark = SparkSession.builder \\\n",
    "    .appName(\"ShipRouteAnalysis\") \\\n",
    "    .getOrCreate()\n",
    "\n",
    "# Optional: Log-Level reduzieren\n",
    "spark.sparkContext.setLogLevel(\"WARN\")"
   ]
  },
  {
   "cell_type": "code",
   "execution_count": null,
   "id": "27ae797a-baa7-41a7-bd10-d248cca2958d",
   "metadata": {},
   "outputs": [],
   "source": [
    "import requests\n",
    "from io import StringIO\n",
    "import pandas as pd\n",
    "from concurrent.futures import ThreadPoolExecutor\n",
    "from pyspark.sql import SparkSession\n",
    "\n",
    "# Funktion zum Herunterladen einer CSV-Datei\n",
    "def download_csv(url):\n",
    "    try:\n",
    "        response = requests.get(url)\n",
    "        response.raise_for_status()\n",
    "        csv_data = StringIO(response.text)\n",
    "        pandas_df = pd.read_csv(csv_data)\n",
    "        return pandas_df\n",
    "    except Exception as e:\n",
    "        print(f\"Error downloading {url}: {e}\")\n",
    "        return pd.DataFrame()  # Leeres DataFrame bei Fehler\n",
    "\n",
    "# Liste der CSV-URLs\n",
    "csv_urls = [\n",
    "    \"https://web.ais.dk/aisdata/aisdk-2024-03-01.zip\",\n",
    "    \"https://web.ais.dk/aisdata/aisdk-2024-03-02.zip\",\n",
    "    # Füge weitere URLs hinzu\n",
    "]\n",
    "\n",
    "# Parallelisiertes Herunterladen mit ThreadPoolExecutor\n",
    "with ThreadPoolExecutor(max_workers=10) as executor:  # Passe die Anzahl der Threads an\n",
    "    pandas_dfs = list(executor.map(download_csv, csv_urls))\n",
    "\n",
    "# Entferne leere DataFrames und kombiniere die restlichen\n",
    "pandas_dfs = [df for df in pandas_dfs if not df.empty]\n",
    "combined_pandas_df = pd.concat(pandas_dfs, ignore_index=True)\n",
    "\n",
    "# Spark-Session starten\n",
    "spark = SparkSession.builder \\\n",
    "    .appName(\"ShipRouteAnalysis\") \\\n",
    "    .getOrCreate()\n",
    "\n",
    "# Spark DataFrame erstellen\n",
    "df = spark.createDataFrame(combined_pandas_df)\n",
    "\n",
    "# Überprüfen\n",
    "df.printSchema()\n",
    "df.show(5)"
   ]
  },
  {
   "cell_type": "code",
   "execution_count": null,
   "id": "b2c9de5b-3800-4d87-bdd3-409597775f1d",
   "metadata": {},
   "outputs": [],
   "source": []
  }
 ],
 "metadata": {
  "kernelspec": {
   "display_name": "Python 3 (ipykernel)",
   "language": "python",
   "name": "python3"
  },
  "language_info": {
   "codemirror_mode": {
    "name": "ipython",
    "version": 3
   },
   "file_extension": ".py",
   "mimetype": "text/x-python",
   "name": "python",
   "nbconvert_exporter": "python",
   "pygments_lexer": "ipython3",
   "version": "3.11.5"
  }
 },
 "nbformat": 4,
 "nbformat_minor": 5
}
