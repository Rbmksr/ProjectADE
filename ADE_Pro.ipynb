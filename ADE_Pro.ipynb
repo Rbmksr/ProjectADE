{
 "cells": [
  {
   "cell_type": "code",
   "execution_count": 1,
   "id": "ff7a69d9-359d-4e41-9797-9fde49108416",
   "metadata": {},
   "outputs": [
    {
     "name": "stderr",
     "output_type": "stream",
     "text": [
      "Setting default log level to \"WARN\".\n",
      "To adjust logging level use sc.setLogLevel(newLevel). For SparkR, use setLogLevel(newLevel).\n",
      "24/12/15 11:55:25 WARN NativeCodeLoader: Unable to load native-hadoop library for your platform... using builtin-java classes where applicable\n"
     ]
    }
   ],
   "source": [
    "from pyspark.sql import SparkSession\n",
    "\n",
    "# Spark-Session starten\n",
    "spark = SparkSession.builder \\\n",
    "    .appName(\"ShipRouteOptimization\") \\\n",
    "    .getOrCreate()\n",
    "\n",
    "# Optional: Log-Level reduzieren für weniger Output\n",
    "spark.sparkContext.setLogLevel(\"WARN\")"
   ]
  },
  {
   "cell_type": "code",
   "execution_count": 2,
   "id": "86cacfe2-452c-4dcb-a8ab-f1461d2352ac",
   "metadata": {},
   "outputs": [
    {
     "name": "stdout",
     "output_type": "stream",
     "text": [
      "           # Timestamp Type of mobile       MMSI   Latitude  Longitude  \\\n",
      "0  01/03/2024 00:00:00        Class A  219000873  56.990910  10.304543   \n",
      "1  01/03/2024 00:00:00   Base Station    2190068  56.447260  10.945872   \n",
      "2  01/03/2024 00:00:00        Class A  219016683  56.800165   9.024933   \n",
      "3  01/03/2024 00:00:00        Class A  219000615  56.967093   9.224287   \n",
      "4  01/03/2024 00:00:00   Base Station    2190071  57.110043   8.648282   \n",
      "5  01/03/2024 00:00:00        Class A  219017664  56.974950   8.922530   \n",
      "6  01/03/2024 00:00:00        Class A  219002686  56.795143   8.863960   \n",
      "7  01/03/2024 00:00:00        Class A  219030053  57.058252   9.900817   \n",
      "8  01/03/2024 00:00:00        Class A  219670000  55.463782   8.444915   \n",
      "9  01/03/2024 00:00:00        Class A  211417590  54.524345  12.675237   \n",
      "\n",
      "          Navigational status  ROT  SOG    COG  Heading  ... Length  \\\n",
      "0      Under way using engine  NaN  0.0   30.2      NaN  ...    NaN   \n",
      "1               Unknown value  NaN  NaN    NaN      NaN  ...    NaN   \n",
      "2      Under way using engine  0.0  0.0  257.3     17.0  ...    NaN   \n",
      "3  Restricted maneuverability  0.0  2.3   69.8     67.0  ...    NaN   \n",
      "4               Unknown value  NaN  NaN    NaN      NaN  ...    NaN   \n",
      "5      Under way using engine  0.0  0.0  349.9    201.0  ...    NaN   \n",
      "6      Under way using engine  0.0  0.0  116.1    213.0  ...    NaN   \n",
      "7               Unknown value  NaN  0.0   15.8      NaN  ...    NaN   \n",
      "8                      Moored  0.0  0.0  321.0    118.0  ...    NaN   \n",
      "9      Under way using engine  0.0  0.6  286.8     23.0  ...    NaN   \n",
      "\n",
      "  Type of position fixing device Draught Destination  ETA  Data source type  \\\n",
      "0                      Undefined     NaN     Unknown  NaN               AIS   \n",
      "1                            GPS     NaN     Unknown  NaN               AIS   \n",
      "2                      Undefined     NaN     Unknown  NaN               AIS   \n",
      "3                      Undefined     NaN     Unknown  NaN               AIS   \n",
      "4                            GPS     NaN     Unknown  NaN               AIS   \n",
      "5                      Undefined     NaN     Unknown  NaN               AIS   \n",
      "6                      Undefined     NaN     Unknown  NaN               AIS   \n",
      "7                      Undefined     NaN     Unknown  NaN               AIS   \n",
      "8                      Undefined     NaN     Unknown  NaN               AIS   \n",
      "9                      Undefined     NaN     Unknown  NaN               AIS   \n",
      "\n",
      "    A   B   C   D  \n",
      "0 NaN NaN NaN NaN  \n",
      "1 NaN NaN NaN NaN  \n",
      "2 NaN NaN NaN NaN  \n",
      "3 NaN NaN NaN NaN  \n",
      "4 NaN NaN NaN NaN  \n",
      "5 NaN NaN NaN NaN  \n",
      "6 NaN NaN NaN NaN  \n",
      "7 NaN NaN NaN NaN  \n",
      "8 NaN NaN NaN NaN  \n",
      "9 NaN NaN NaN NaN  \n",
      "\n",
      "[10 rows x 26 columns]\n"
     ]
    }
   ],
   "source": [
    "import requests\n",
    "from io import BytesIO\n",
    "import pandas as pd\n",
    "import zipfile\n",
    "from concurrent.futures import ThreadPoolExecutor\n",
    "import folium\n",
    "\n",
    "# Schritt 1: Funktion zum Herunterladen und Entpacken von ZIP-Archiv und Laden der CSV\n",
    "def download_and_unzip_csv(url):\n",
    "    response = requests.get(url)\n",
    "    response.raise_for_status()\n",
    "    zipfile_bytes = BytesIO(response.content)\n",
    "    with zipfile.ZipFile(zipfile_bytes, 'r') as z:\n",
    "        csv_filename = z.namelist()[0] \n",
    "        with z.open(csv_filename) as csv_file:\n",
    "            return pd.read_csv(csv_file)\n",
    "\n",
    "# Schritt 2: Liste der CSV (ZIP)-URLs\n",
    "csv_urls = [\"https://web.ais.dk/aisdata/aisdk-2024-03-01.zip\", \n",
    "            \"https://web.ais.dk/aisdata/aisdk-2024-03-02.zip\"\n",
    "           ]\n",
    "\n",
    "# Schritt 3: Paralleles Herunterladen und Verarbeiten der ZIP-Dateien\n",
    "with ThreadPoolExecutor(max_workers=10) as executor:\n",
    "    dfs = list(executor.map(download_and_unzip_csv, csv_urls))\n",
    "\n",
    "# Schritt 4: Alle DataFrames in einen großen DataFrame kombinieren\n",
    "combined_df = pd.concat(dfs, ignore_index=True)\n",
    "\n",
    "# Einige Beispielzeilen ausgeben um Mögliche MMSI-Nummern anzuzeigen\n",
    "print(combined_df.head(10))"
   ]
  },
  {
   "cell_type": "code",
   "execution_count": null,
   "id": "c4f409d3-4d74-4367-a3f4-0389341449f3",
   "metadata": {},
   "outputs": [],
   "source": [
    "########################################################\n",
    "# 2. Basisstationen herausfiltern (\"Type of mobile\" != \"Base Station\")\n",
    "########################################################\n",
    "\n",
    "# Nur Zeilen behalten, die keine \"Base Station\" sind\n",
    "if \"Type of mobile\" in combined_df.columns:\n",
    "    combined_df = combined_df[combined_df[\"Type of mobile\"] != \"Base Station\"]\n",
    "else:\n",
    "    print(\"Warnung: 'Type of mobile' Spalte nicht vorhanden, Überspringe diesen Schritt.\")"
   ]
  },
  {
   "cell_type": "code",
   "execution_count": 14,
   "id": "34ace257-2e80-48d9-8233-e08eeecddef4",
   "metadata": {},
   "outputs": [],
   "source": [
    "########################################################\n",
    "# 3. Nur relevante Spalten behalten, um Datenmenge zu reduzieren\n",
    "########################################################\n",
    "\n",
    "relevant_columns = [\"MMSI\", \"Latitude\", \"Longitude\", \"# Timestamp\"]\n",
    "combined_df = combined_df[relevant_columns]\n",
    "\n",
    "########################################################\n",
    "# 4. Timestamp in datetime konvertieren\n",
    "########################################################\n",
    "\n",
    "combined_df['# Timestamp'] = pd.to_datetime(combined_df['# Timestamp'], format='%d/%m/%Y %H:%M:%S', errors='coerce')\n",
    "\n",
    "########################################################\n",
    "# 5. Filtern von MMSI-Nummern, die genug Datenpunkte haben\n",
    "########################################################\n",
    "\n",
    "# Anzahl Datenpunkte pro MMSI bestimmen\n",
    "mmsi_counts = combined_df.groupby(\"MMSI\").size().reset_index(name=\"count\")\n",
    "\n",
    "# Schwelle definieren (z.B. mindestens 50 Punkte)\n",
    "threshold = 50\n",
    "valid_mmsi = mmsi_counts[mmsi_counts[\"count\"] >= threshold][\"MMSI\"].unique()\n",
    "\n",
    "# Gefilterter DataFrame nur mit MMSI, die genügend Datenpunkte haben\n",
    "filtered_by_count_df = combined_df[combined_df[\"MMSI\"].isin(valid_mmsi)]\n",
    "\n",
    "########################################################\n",
    "# 6. Nach bestimmter MMSI und mehreren Datums filtern + Route plotten\n",
    "########################################################\n",
    "\n",
    "mmsi_number = 246846000  # Ersetze mit deiner MMSI\n",
    "desired_dates = [\"2024-03-01\", \"2024-03-02\"]  # Beispiel: zwei unterschiedliche Tage\n",
    "\n",
    "# Prüfen, ob MMSI genug Daten hat\n",
    "if mmsi_number not in valid_mmsi:\n",
    "    print(f\"MMSI {mmsi_number} hat nicht genügend Datenpunkte, um eine aussagekräftige Route anzuzeigen.\")\n",
    "else:\n",
    "    # Liste von datetime.date Objekten aus den Strings erstellen\n",
    "    date_objects = [pd.to_datetime(d).date() for d in desired_dates]\n",
    "    \n",
    "    # Nach MMSI und Datum filtern\n",
    "    route_df = filtered_by_count_df[\n",
    "        (filtered_by_count_df[\"MMSI\"] == mmsi_number) &\n",
    "        (filtered_by_count_df[\"# Timestamp\"].dt.date.isin(date_objects))\n",
    "    ].sort_values(\"# Timestamp\")\n",
    "\n",
    "    # Überprüfen, ob gefilterte Daten vorhanden sind\n",
    "    if route_df.empty:\n",
    "        print(f\"Keine Daten für MMSI {mmsi_number} an den angegebenen Datumswerten: {desired_dates}\")\n",
    "    else:\n",
    "        # Karte erstellen und Route plotten\n",
    "        mean_lat = route_df[\"Latitude\"].mean()\n",
    "        mean_lon = route_df[\"Longitude\"].mean()\n",
    "        \n",
    "        route_map = folium.Map(location=[mean_lat, mean_lon], zoom_start=8)\n",
    "        \n",
    "        # Koordinatenliste für PolyLine\n",
    "        coords = route_df[[\"Latitude\", \"Longitude\"]].values.tolist()\n",
    "        \n",
    "        # PolyLine hinzufügen\n",
    "        folium.PolyLine(coords, color=\"blue\", weight=2.5, opacity=1).add_to(route_map)\n",
    "        \n",
    "        # Optional: Punkte markieren (auskommentiert lassen, falls nicht benötigt)\n",
    "        # for _, row in route_df.iterrows():\n",
    "        #     folium.CircleMarker(\n",
    "        #         location=[row['Latitude'], row['Longitude']],\n",
    "        #         radius=2,\n",
    "        #         color='red',\n",
    "        #         fill=True,\n",
    "        #         fill_color='red',\n",
    "        #         fill_opacity=0.7,\n",
    "        #         popup=f\"Timestamp: {row['# Timestamp']}\"\n",
    "        #     ).add_to(route_map)\n",
    "        \n",
    "        # Karte anzeigen oder speichern\n",
    "        route_map.save(\"ship_route.html\")\n",
    "        route_map"
   ]
  },
  {
   "cell_type": "code",
   "execution_count": null,
   "id": "c8c1f917-1699-4961-8efb-2248ed532b42",
   "metadata": {},
   "outputs": [],
   "source": []
  },
  {
   "cell_type": "code",
   "execution_count": 6,
   "id": "f66f2c26-fb3b-4515-a6d1-5ff42e2115d2",
   "metadata": {},
   "outputs": [
    {
     "name": "stdout",
     "output_type": "stream",
     "text": [
      "         MMSI   Latitude  Longitude # Timestamp\n",
      "0   219000873  56.990910  10.304543  2024-03-01\n",
      "2   219016683  56.800165   9.024933  2024-03-01\n",
      "3   219000615  56.967093   9.224287  2024-03-01\n",
      "5   219017664  56.974950   8.922530  2024-03-01\n",
      "6   219002686  56.795143   8.863960  2024-03-01\n",
      "7   219030053  57.058252   9.900817  2024-03-01\n",
      "8   219670000  55.463782   8.444915  2024-03-01\n",
      "9   211417590  54.524345  12.675237  2024-03-01\n",
      "11  246846000  57.628408  10.595227  2024-03-01\n",
      "12  246846000  57.628408  10.595227  2024-03-01\n"
     ]
    }
   ],
   "source": [
    "print(combined_df.head(10))"
   ]
  },
  {
   "cell_type": "code",
   "execution_count": 5,
   "id": "6c5e6741-819b-4513-8482-8e17696b6411",
   "metadata": {},
   "outputs": [
    {
     "name": "stdout",
     "output_type": "stream",
     "text": [
      "Der angepasste Datensatz hat 29508390 Einträge.\n"
     ]
    }
   ],
   "source": [
    "print(f\"Der angepasste Datensatz hat {len(combined_df)} Einträge.\")"
   ]
  },
  {
   "cell_type": "code",
   "execution_count": null,
   "id": "e103e9f7-def0-415b-9ebd-4db55e2dbe90",
   "metadata": {},
   "outputs": [],
   "source": []
  }
 ],
 "metadata": {
  "kernelspec": {
   "display_name": "Python 3 (ipykernel)",
   "language": "python",
   "name": "python3"
  },
  "language_info": {
   "codemirror_mode": {
    "name": "ipython",
    "version": 3
   },
   "file_extension": ".py",
   "mimetype": "text/x-python",
   "name": "python",
   "nbconvert_exporter": "python",
   "pygments_lexer": "ipython3",
   "version": "3.11.5"
  }
 },
 "nbformat": 4,
 "nbformat_minor": 5
}
