{
 "cells": [
  {
   "cell_type": "code",
   "execution_count": null,
   "id": "ea32e9a6-59eb-4713-9245-33198129831b",
   "metadata": {},
   "outputs": [],
   "source": [
    "Initial Considerations in the Food Sector:\n",
    "\t•\tAt the beginning of our project, we considered focusing on the food and nutrition sector.\n",
    "\t•\tWhile we identified some interesting questions, it was challenging to find a sufficiently large dataset that met the requirements of a Big Data project.\n",
    "\t•\tDue to the limited availability of suitable data, we decided to discard this idea."
   ]
  },
  {
   "cell_type": "code",
   "execution_count": null,
   "id": "2a60fc5a-870a-4ead-a670-3ace3ef3c31d",
   "metadata": {},
   "outputs": [],
   "source": [
    "Exploration in the Energy Sector:\n",
    "\t•\tNext, we explored the energy sector, as there are often comprehensive datasets available on topics such as electricity consumption, renewable energy, or grid stability.\n",
    "\t•\tAlthough we found many large datasets, it was difficult to define a clear and feasible use case that could be implemented with the data.\n",
    "\t•\tFor this reason, we decided not to pursue this area further."
   ]
  },
  {
   "cell_type": "code",
   "execution_count": null,
   "id": "dd85ec1b-caf9-41fb-82aa-9e413dc18076",
   "metadata": {},
   "outputs": [],
   "source": [
    "\tCurrent Considerations: Wikipedia Data:\n",
    "    •\tCurrently, we are evaluating the possibility of working with Wikipedia data.\n",
    "\t•\tOur idea is to develop a method for automatically categorizing Wikipedia articles.\n",
    "\t•\tThis approach offers an interesting challenge due to the large amount of data available and provides the opportunity to apply techniques like text analysis and machine learning."
   ]
  },
  {
   "cell_type": "code",
   "execution_count": null,
   "id": "cfd9b55b-a535-4557-9304-d1ebf37c045f",
   "metadata": {},
   "outputs": [],
   "source": [
    "mit pandas können wir die Daten laden und analysieren"
   ]
  },
  {
   "cell_type": "code",
   "execution_count": 19,
   "id": "d2b76be0-8a0a-47f3-ad45-ea2dc315110f",
   "metadata": {},
   "outputs": [
    {
     "name": "stdout",
     "output_type": "stream",
     "text": [
      "           # Timestamp Type of mobile       MMSI   Latitude  Longitude  \\\n",
      "0  01/03/2024 00:00:00        Class A  219000873  56.990910  10.304543   \n",
      "1  01/03/2024 00:00:00   Base Station    2190068  56.447260  10.945872   \n",
      "2  01/03/2024 00:00:00        Class A  219016683  56.800165   9.024933   \n",
      "3  01/03/2024 00:00:00        Class A  219000615  56.967093   9.224287   \n",
      "4  01/03/2024 00:00:00   Base Station    2190071  57.110043   8.648282   \n",
      "\n",
      "          Navigational status  ROT  SOG    COG  Heading  ... Length  \\\n",
      "0      Under way using engine  NaN  0.0   30.2      NaN  ...    NaN   \n",
      "1               Unknown value  NaN  NaN    NaN      NaN  ...    NaN   \n",
      "2      Under way using engine  0.0  0.0  257.3     17.0  ...    NaN   \n",
      "3  Restricted maneuverability  0.0  2.3   69.8     67.0  ...    NaN   \n",
      "4               Unknown value  NaN  NaN    NaN      NaN  ...    NaN   \n",
      "\n",
      "  Type of position fixing device Draught Destination  ETA  Data source type  \\\n",
      "0                      Undefined     NaN     Unknown  NaN               AIS   \n",
      "1                            GPS     NaN     Unknown  NaN               AIS   \n",
      "2                      Undefined     NaN     Unknown  NaN               AIS   \n",
      "3                      Undefined     NaN     Unknown  NaN               AIS   \n",
      "4                            GPS     NaN     Unknown  NaN               AIS   \n",
      "\n",
      "    A   B   C   D  \n",
      "0 NaN NaN NaN NaN  \n",
      "1 NaN NaN NaN NaN  \n",
      "2 NaN NaN NaN NaN  \n",
      "3 NaN NaN NaN NaN  \n",
      "4 NaN NaN NaN NaN  \n",
      "\n",
      "[5 rows x 26 columns]\n"
     ]
    }
   ],
   "source": [
    "import pandas as pd\n",
    "\n",
    "# Pfad zur CSV-Datei\n",
    "file_path = '/Users/konradmaywald/AdvDataEng_Project/aisdk-2024-03-01.csv'\n",
    "\n",
    "# CSV-Datei laden\n",
    "data = pd.read_csv(file_path)\n",
    "\n",
    "# Ersten Einblick in die Daten\n",
    "print(data.head())"
   ]
  },
  {
   "cell_type": "code",
   "execution_count": null,
   "id": "95f8243b-7bc5-4a09-aeb8-e3c7660c6de1",
   "metadata": {},
   "outputs": [],
   "source": [
    "Wir überprüfen die Dimensionen und Spalten der Datei"
   ]
  },
  {
   "cell_type": "code",
   "execution_count": 20,
   "id": "050fbf69-11e1-4284-b94f-a448f15adedb",
   "metadata": {},
   "outputs": [
    {
     "name": "stdout",
     "output_type": "stream",
     "text": [
      "<class 'pandas.core.frame.DataFrame'>\n",
      "RangeIndex: 15512927 entries, 0 to 15512926\n",
      "Data columns (total 26 columns):\n",
      " #   Column                          Dtype  \n",
      "---  ------                          -----  \n",
      " 0   # Timestamp                     object \n",
      " 1   Type of mobile                  object \n",
      " 2   MMSI                            int64  \n",
      " 3   Latitude                        float64\n",
      " 4   Longitude                       float64\n",
      " 5   Navigational status             object \n",
      " 6   ROT                             float64\n",
      " 7   SOG                             float64\n",
      " 8   COG                             float64\n",
      " 9   Heading                         float64\n",
      " 10  IMO                             object \n",
      " 11  Callsign                        object \n",
      " 12  Name                            object \n",
      " 13  Ship type                       object \n",
      " 14  Cargo type                      object \n",
      " 15  Width                           float64\n",
      " 16  Length                          float64\n",
      " 17  Type of position fixing device  object \n",
      " 18  Draught                         float64\n",
      " 19  Destination                     object \n",
      " 20  ETA                             object \n",
      " 21  Data source type                object \n",
      " 22  A                               float64\n",
      " 23  B                               float64\n",
      " 24  C                               float64\n",
      " 25  D                               float64\n",
      "dtypes: float64(13), int64(1), object(12)\n",
      "memory usage: 3.0+ GB\n",
      "None\n",
      "               MMSI      Latitude     Longitude           ROT           SOG  \\\n",
      "count  1.551293e+07  1.551293e+07  1.551293e+07  1.086918e+07  1.413004e+07   \n",
      "mean   2.454444e+08  5.650307e+01  1.067390e+01  4.908689e-03  6.130839e+00   \n",
      "std    1.279027e+08  4.008501e+00  2.287683e+00  6.230033e+00  7.661994e+00   \n",
      "min    1.740000e+02 -6.734587e+01 -4.521641e+01 -7.087000e+02  0.000000e+00   \n",
      "25%    2.190041e+08  5.512126e+01  9.709412e+00  0.000000e+00  0.000000e+00   \n",
      "50%    2.191670e+08  5.596371e+01  1.092225e+01  0.000000e+00  2.800000e+00   \n",
      "75%    2.538160e+08  5.710876e+01  1.191529e+01  0.000000e+00  1.130000e+01   \n",
      "max    1.058601e+09  9.100000e+01  1.262728e+02  7.087000e+02  1.780000e+02   \n",
      "\n",
      "                COG       Heading         Width        Length       Draught  \\\n",
      "count  1.328636e+07  1.219824e+07  1.395328e+07  1.395391e+07  1.166614e+07   \n",
      "mean   1.799086e+02  1.744744e+02  1.456970e+01  7.866695e+01  4.932645e+00   \n",
      "std    1.083304e+02  1.011988e+02  1.067677e+01  7.108789e+01  3.001771e+00   \n",
      "min    0.000000e+00  0.000000e+00  1.000000e+00  1.000000e+00  1.000000e-01   \n",
      "25%    7.920000e+01  8.300000e+01  6.000000e+00  1.900000e+01  2.500000e+00   \n",
      "50%    1.930000e+02  1.760000e+02  1.200000e+01  5.000000e+01  4.400000e+00   \n",
      "75%    2.691000e+02  2.540000e+02  2.100000e+01  1.190000e+02  6.600000e+00   \n",
      "max    3.599000e+02  3.590000e+02  1.060000e+02  4.000000e+02  2.550000e+01   \n",
      "\n",
      "                  A             B             C             D  \n",
      "count  1.392225e+07  1.382722e+07  1.379877e+07  1.378218e+07  \n",
      "mean   5.033789e+01  2.870390e+01  7.351983e+00  7.389746e+00  \n",
      "std    5.526080e+01  4.253912e+01  6.278118e+00  6.029991e+00  \n",
      "min    1.000000e+00  1.000000e+00  1.000000e+00  1.000000e+00  \n",
      "25%    1.100000e+01  8.000000e+00  3.000000e+00  3.000000e+00  \n",
      "50%    2.100000e+01  1.400000e+01  6.000000e+00  5.000000e+00  \n",
      "75%    7.900000e+01  2.800000e+01  1.000000e+01  1.000000e+01  \n",
      "max    3.050000e+02  3.040000e+02  6.100000e+01  6.300000e+01  \n"
     ]
    }
   ],
   "source": [
    "print(data.info())  # Übersicht der Spalten und Datentypen\n",
    "print(data.describe())  # Statistische Zusammenfassung (nur numerische Daten)"
   ]
  },
  {
   "cell_type": "code",
   "execution_count": 17,
   "id": "76454e11-6215-4e83-80ad-5b4a248faee0",
   "metadata": {},
   "outputs": [
    {
     "ename": "SyntaxError",
     "evalue": "invalid syntax (1440123882.py, line 1)",
     "output_type": "error",
     "traceback": [
      "\u001b[0;36m  Cell \u001b[0;32mIn[17], line 1\u001b[0;36m\u001b[0m\n\u001b[0;31m    Daten vorbereiten, Null-Werte prüfen und behandel\u001b[0m\n\u001b[0m          ^\u001b[0m\n\u001b[0;31mSyntaxError\u001b[0m\u001b[0;31m:\u001b[0m invalid syntax\n"
     ]
    }
   ],
   "source": [
    "Daten vorbereiten, Null-Werte prüfen und behandel"
   ]
  },
  {
   "cell_type": "code",
   "execution_count": 21,
   "id": "cc5cd82a-38b5-41a1-9159-ef33d9673e6f",
   "metadata": {},
   "outputs": [
    {
     "name": "stdout",
     "output_type": "stream",
     "text": [
      "# Timestamp                              0\n",
      "Type of mobile                           0\n",
      "MMSI                                     0\n",
      "Latitude                                 0\n",
      "Longitude                                0\n",
      "Navigational status                      0\n",
      "ROT                                4643751\n",
      "SOG                                1382887\n",
      "COG                                2226564\n",
      "Heading                            3314689\n",
      "IMO                                      0\n",
      "Callsign                                 0\n",
      "Name                               1237673\n",
      "Ship type                                0\n",
      "Cargo type                        12997324\n",
      "Width                              1559645\n",
      "Length                             1559013\n",
      "Type of position fixing device           0\n",
      "Draught                            3846788\n",
      "Destination                          14569\n",
      "ETA                                5373925\n",
      "Data source type                         0\n",
      "A                                  1590677\n",
      "B                                  1685702\n",
      "C                                  1714158\n",
      "D                                  1730745\n",
      "dtype: int64\n"
     ]
    }
   ],
   "source": [
    "print(data.isnull().sum())  # Anzahl der fehlenden Werte pro Spalte\n",
    "data = data.dropna()  # Entfernt Zeilen mit fehlenden Werten"
   ]
  },
  {
   "cell_type": "code",
   "execution_count": 22,
   "id": "272855b7-a10d-4410-958f-dd004c77a631",
   "metadata": {},
   "outputs": [
    {
     "name": "stdout",
     "output_type": "stream",
     "text": [
      "# Timestamp                        object\n",
      "Type of mobile                     object\n",
      "MMSI                                int64\n",
      "Latitude                          float64\n",
      "Longitude                         float64\n",
      "Navigational status                object\n",
      "ROT                               float64\n",
      "SOG                               float64\n",
      "COG                               float64\n",
      "Heading                           float64\n",
      "IMO                                object\n",
      "Callsign                           object\n",
      "Name                               object\n",
      "Ship type                          object\n",
      "Cargo type                         object\n",
      "Width                             float64\n",
      "Length                            float64\n",
      "Type of position fixing device     object\n",
      "Draught                           float64\n",
      "Destination                        object\n",
      "ETA                                object\n",
      "Data source type                   object\n",
      "A                                 float64\n",
      "B                                 float64\n",
      "C                                 float64\n",
      "D                                 float64\n",
      "dtype: object\n"
     ]
    }
   ],
   "source": [
    "print(data.dtypes)  # Zeigt die Datentypen jeder Spalte"
   ]
  },
  {
   "cell_type": "code",
   "execution_count": 23,
   "id": "3d70c5e0-7d5a-4b1f-96c0-cdef6e8612c4",
   "metadata": {},
   "outputs": [
    {
     "name": "stdout",
     "output_type": "stream",
     "text": [
      "Missing values per column:\n",
      "# Timestamp                       0\n",
      "Type of mobile                    0\n",
      "MMSI                              0\n",
      "Latitude                          0\n",
      "Longitude                         0\n",
      "Navigational status               0\n",
      "ROT                               0\n",
      "SOG                               0\n",
      "COG                               0\n",
      "Heading                           0\n",
      "IMO                               0\n",
      "Callsign                          0\n",
      "Name                              0\n",
      "Ship type                         0\n",
      "Cargo type                        0\n",
      "Width                             0\n",
      "Length                            0\n",
      "Type of position fixing device    0\n",
      "Draught                           0\n",
      "Destination                       0\n",
      "ETA                               0\n",
      "Data source type                  0\n",
      "A                                 0\n",
      "B                                 0\n",
      "C                                 0\n",
      "D                                 0\n",
      "dtype: int64\n",
      "\n",
      "Data types:\n",
      "# Timestamp                        object\n",
      "Type of mobile                     object\n",
      "MMSI                                int64\n",
      "Latitude                          float64\n",
      "Longitude                         float64\n",
      "Navigational status                object\n",
      "ROT                               float64\n",
      "SOG                               float64\n",
      "COG                               float64\n",
      "Heading                           float64\n",
      "IMO                                object\n",
      "Callsign                           object\n",
      "Name                               object\n",
      "Ship type                          object\n",
      "Cargo type                         object\n",
      "Width                             float64\n",
      "Length                            float64\n",
      "Type of position fixing device     object\n",
      "Draught                           float64\n",
      "Destination                        object\n",
      "ETA                                object\n",
      "Data source type                   object\n",
      "A                                 float64\n",
      "B                                 float64\n",
      "C                                 float64\n",
      "D                                 float64\n",
      "dtype: object\n",
      "\n",
      "Statistical summary:\n",
      "               MMSI      Latitude     Longitude           ROT           SOG  \\\n",
      "count  2.145813e+06  2.145813e+06  2.145813e+06  2.145813e+06  2.145813e+06   \n",
      "mean   2.686897e+08  5.596773e+01  1.106709e+01 -5.135583e-05  1.173728e+01   \n",
      "std    9.240202e+07  1.084272e+00  1.982702e+00  3.394279e+00  6.894352e+00   \n",
      "min    2.091140e+08  5.166064e+01  3.305302e+00 -9.860000e+01  0.000000e+00   \n",
      "25%    2.190258e+08  5.502108e+01  1.025899e+01  0.000000e+00  9.000000e+00   \n",
      "50%    2.442550e+08  5.585846e+01  1.111590e+01  0.000000e+00  1.210000e+01   \n",
      "75%    2.654100e+08  5.687768e+01  1.220138e+01  0.000000e+00  1.610000e+01   \n",
      "max    6.670019e+08  5.902088e+01  8.967473e+01  1.254000e+02  8.730000e+01   \n",
      "\n",
      "                COG       Heading         Width        Length       Draught  \\\n",
      "count  2.145813e+06  2.145813e+06  2.145813e+06  2.145813e+06  2.145813e+06   \n",
      "mean   1.736453e+02  1.724165e+02  2.298885e+01  1.424970e+02  6.366650e+00   \n",
      "std    1.025897e+02  1.000802e+02  1.014562e+01  6.985305e+01  2.753150e+00   \n",
      "min    0.000000e+00  0.000000e+00  4.000000e+00  1.100000e+01  6.000000e-01   \n",
      "25%    7.440000e+01  7.500000e+01  1.500000e+01  9.300000e+01  5.000000e+00   \n",
      "50%    1.880000e+02  1.840000e+02  2.200000e+01  1.410000e+02  6.200000e+00   \n",
      "75%    2.526000e+02  2.510000e+02  3.000000e+01  1.830000e+02  7.500000e+00   \n",
      "max    3.599000e+02  3.590000e+02  1.060000e+02  4.000000e+02  1.500000e+01   \n",
      "\n",
      "                  A             B             C             D  \n",
      "count  2.145813e+06  2.145813e+06  2.145813e+06  2.145813e+06  \n",
      "mean   8.252322e+01  5.997381e+01  1.164392e+01  1.134493e+01  \n",
      "std    5.551278e+01  6.777536e+01  6.540297e+00  6.206106e+00  \n",
      "min    4.000000e+00  4.000000e+00  1.000000e+00  1.000000e+00  \n",
      "25%    2.600000e+01  1.400000e+01  7.000000e+00  6.000000e+00  \n",
      "50%    7.900000e+01  2.800000e+01  1.100000e+01  1.100000e+01  \n",
      "75%    1.270000e+02  7.600000e+01  1.500000e+01  1.600000e+01  \n",
      "max    3.050000e+02  2.830000e+02  6.100000e+01  4.500000e+01  \n",
      "\n",
      "Is Timestamp sorted?\n",
      "True\n"
     ]
    }
   ],
   "source": [
    "# Check for missing values\n",
    "print(\"Missing values per column:\")\n",
    "print(data.isnull().sum())\n",
    "\n",
    "# Check datatypes\n",
    "print(\"\\nData types:\")\n",
    "print(data.dtypes)\n",
    "\n",
    "# Check statistical summary\n",
    "print(\"\\nStatistical summary:\")\n",
    "print(data.describe())\n",
    "\n",
    "# Check if Timestamp is sorted\n",
    "print(\"\\nIs Timestamp sorted?\")\n",
    "print(data.index.is_monotonic_increasing)"
   ]
  },
  {
   "cell_type": "code",
   "execution_count": null,
   "id": "5178ca93-4f5d-47e9-a105-4e027805a1cb",
   "metadata": {},
   "outputs": [],
   "source": [
    "Da Timestamp als Object gespeichert ist müssen wir dessen Format ändern um damit später weiter arbeiten zu können:"
   ]
  },
  {
   "cell_type": "code",
   "execution_count": 5,
   "id": "5a004ddb-7a8e-4c32-b46c-7de41d121dd4",
   "metadata": {},
   "outputs": [],
   "source": [
    "data['# Timestamp'] = pd.to_datetime(data['# Timestamp'], format='%d/%m/%Y %H:%M:%S', errors='coerce')"
   ]
  },
  {
   "cell_type": "code",
   "execution_count": 6,
   "id": "3dc44e02-18db-4dcf-abef-4e28a72a2939",
   "metadata": {},
   "outputs": [
    {
     "name": "stdout",
     "output_type": "stream",
     "text": [
      "# Timestamp                       datetime64[ns]\n",
      "Type of mobile                            object\n",
      "MMSI                                       int64\n",
      "Latitude                                 float64\n",
      "Longitude                                float64\n",
      "Navigational status                       object\n",
      "ROT                                      float64\n",
      "SOG                                      float64\n",
      "COG                                      float64\n",
      "Heading                                  float64\n",
      "IMO                                       object\n",
      "Callsign                                  object\n",
      "Name                                      object\n",
      "Ship type                                 object\n",
      "Cargo type                                object\n",
      "Width                                    float64\n",
      "Length                                   float64\n",
      "Type of position fixing device            object\n",
      "Draught                                  float64\n",
      "Destination                               object\n",
      "ETA                                       object\n",
      "Data source type                          object\n",
      "A                                        float64\n",
      "B                                        float64\n",
      "C                                        float64\n",
      "D                                        float64\n",
      "dtype: object\n",
      "200   2024-03-01 00:00:01\n",
      "201   2024-03-01 00:00:01\n",
      "455   2024-03-01 00:00:02\n",
      "456   2024-03-01 00:00:02\n",
      "936   2024-03-01 00:00:05\n",
      "Name: # Timestamp, dtype: datetime64[ns]\n"
     ]
    }
   ],
   "source": [
    "print(data.dtypes)  # Zeigt an, dass 'Timestamp' jetzt 'datetime64[ns]' ist\n",
    "print(data['# Timestamp'].head())  # Überprüft die Werte"
   ]
  },
  {
   "cell_type": "code",
   "execution_count": 7,
   "id": "a6fcf0ad-5620-4e53-82ac-a129159c13b9",
   "metadata": {},
   "outputs": [],
   "source": [
    "selected_columns = data[['# Timestamp', 'Latitude', 'Longitude', 'SOG', 'COG']]"
   ]
  },
  {
   "cell_type": "code",
   "execution_count": null,
   "id": "265db423-e93e-43e8-b431-732ac8efcef5",
   "metadata": {},
   "outputs": [],
   "source": []
  },
  {
   "cell_type": "code",
   "execution_count": null,
   "id": "4b76afe8-4eb1-4a66-b8e2-147aece92907",
   "metadata": {},
   "outputs": [],
   "source": []
  },
  {
   "cell_type": "code",
   "execution_count": 28,
   "id": "a0bf0383-d2ba-463b-85fc-06580f7f009b",
   "metadata": {},
   "outputs": [
    {
     "name": "stdout",
     "output_type": "stream",
     "text": [
      "Collecting matplotlib\n",
      "  Downloading matplotlib-3.9.2-cp311-cp311-macosx_11_0_arm64.whl.metadata (11 kB)\n",
      "Collecting contourpy>=1.0.1 (from matplotlib)\n",
      "  Downloading contourpy-1.3.1-cp311-cp311-macosx_11_0_arm64.whl.metadata (5.4 kB)\n",
      "Collecting cycler>=0.10 (from matplotlib)\n",
      "  Downloading cycler-0.12.1-py3-none-any.whl.metadata (3.8 kB)\n",
      "Collecting fonttools>=4.22.0 (from matplotlib)\n",
      "  Downloading fonttools-4.55.0-cp311-cp311-macosx_10_9_universal2.whl.metadata (164 kB)\n",
      "Collecting kiwisolver>=1.3.1 (from matplotlib)\n",
      "  Downloading kiwisolver-1.4.7-cp311-cp311-macosx_11_0_arm64.whl.metadata (6.3 kB)\n",
      "Requirement already satisfied: numpy>=1.23 in /Library/Frameworks/Python.framework/Versions/3.11/lib/python3.11/site-packages (from matplotlib) (2.1.3)\n",
      "Requirement already satisfied: packaging>=20.0 in /Library/Frameworks/Python.framework/Versions/3.11/lib/python3.11/site-packages (from matplotlib) (24.1)\n",
      "Collecting pillow>=8 (from matplotlib)\n",
      "  Downloading pillow-11.0.0-cp311-cp311-macosx_11_0_arm64.whl.metadata (9.1 kB)\n",
      "Collecting pyparsing>=2.3.1 (from matplotlib)\n",
      "  Downloading pyparsing-3.2.0-py3-none-any.whl.metadata (5.0 kB)\n",
      "Requirement already satisfied: python-dateutil>=2.7 in /Library/Frameworks/Python.framework/Versions/3.11/lib/python3.11/site-packages (from matplotlib) (2.9.0.post0)\n",
      "Requirement already satisfied: six>=1.5 in /Library/Frameworks/Python.framework/Versions/3.11/lib/python3.11/site-packages (from python-dateutil>=2.7->matplotlib) (1.16.0)\n",
      "Downloading matplotlib-3.9.2-cp311-cp311-macosx_11_0_arm64.whl (7.8 MB)\n",
      "\u001b[2K   \u001b[90m━━━━━━━━━━━━━━━━━━━━━━━━━━━━━━━━━━━━━━━━\u001b[0m \u001b[32m7.8/7.8 MB\u001b[0m \u001b[31m27.0 MB/s\u001b[0m eta \u001b[36m0:00:00\u001b[0ma \u001b[36m0:00:01\u001b[0m\n",
      "\u001b[?25hDownloading contourpy-1.3.1-cp311-cp311-macosx_11_0_arm64.whl (254 kB)\n",
      "Downloading cycler-0.12.1-py3-none-any.whl (8.3 kB)\n",
      "Downloading fonttools-4.55.0-cp311-cp311-macosx_10_9_universal2.whl (2.8 MB)\n",
      "\u001b[2K   \u001b[90m━━━━━━━━━━━━━━━━━━━━━━━━━━━━━━━━━━━━━━━━\u001b[0m \u001b[32m2.8/2.8 MB\u001b[0m \u001b[31m15.7 MB/s\u001b[0m eta \u001b[36m0:00:00\u001b[0m\n",
      "\u001b[?25hDownloading kiwisolver-1.4.7-cp311-cp311-macosx_11_0_arm64.whl (64 kB)\n",
      "Downloading pillow-11.0.0-cp311-cp311-macosx_11_0_arm64.whl (3.0 MB)\n",
      "\u001b[2K   \u001b[90m━━━━━━━━━━━━━━━━━━━━━━━━━━━━━━━━━━━━━━━━\u001b[0m \u001b[32m3.0/3.0 MB\u001b[0m \u001b[31m27.0 MB/s\u001b[0m eta \u001b[36m0:00:00\u001b[0m\n",
      "\u001b[?25hDownloading pyparsing-3.2.0-py3-none-any.whl (106 kB)\n",
      "Installing collected packages: pyparsing, pillow, kiwisolver, fonttools, cycler, contourpy, matplotlib\n",
      "Successfully installed contourpy-1.3.1 cycler-0.12.1 fonttools-4.55.0 kiwisolver-1.4.7 matplotlib-3.9.2 pillow-11.0.0 pyparsing-3.2.0\n"
     ]
    }
   ],
   "source": [
    "!pip install matplotlib"
   ]
  },
  {
   "cell_type": "code",
   "execution_count": 8,
   "id": "d16f8664-8403-483d-830b-701d103ff250",
   "metadata": {},
   "outputs": [
    {
     "data": {
      "image/png": "[encoded data removed]",
      "text/plain": [
       "<Figure size 1200x600 with 1 Axes>"
      ]
     },
     "metadata": {},
     "output_type": "display_data"
    }
   ],
   "source": [
    "import matplotlib.pyplot as plt\n",
    "\n",
    "data['# Timestamp'] = pd.to_datetime(data['# Timestamp'])\n",
    "data.set_index('# Timestamp', inplace=True)\n",
    "\n",
    "data['SOG'].plot(figsize=(12, 6), title='Speed Over Ground Over Time')\n",
    "plt.show()"
   ]
  },
  {
   "cell_type": "code",
   "execution_count": null,
   "id": "e5873751-7a3b-499f-9265-fb974f7d31cd",
   "metadata": {},
   "outputs": [],
   "source": [
    "Karten Visualisierungen mit Scatterplot über breiten und längengrade"
   ]
  },
  {
   "cell_type": "code",
   "execution_count": 2,
   "id": "2957f320-a716-4de5-b296-9210019decfb",
   "metadata": {},
   "outputs": [
    {
     "data": {
      "image/png": "[encoded data removed]",
      "text/plain": [
       "<Figure size 1000x600 with 1 Axes>"
      ]
     },
     "metadata": {},
     "output_type": "display_data"
    }
   ],
   "source": [
    "import pandas as pd\n",
    "import matplotlib.pyplot as plt\n",
    "\n",
    "# Beispiel-Daten\n",
    "df = pd.read_csv(\"/Users/konradmaywald/AdvDataEng_Project/aisdk-2024-03-01.csv\")\n",
    "\n",
    "\n",
    "# Scatterplot der geografischen Koordinaten\n",
    "plt.figure(figsize=(10, 6))\n",
    "plt.scatter(df['Longitude'], df['Latitude'], c='blue', alpha=0.5, s=10)\n",
    "plt.title(\"Geografische Positionen der Schiffe\")\n",
    "plt.xlabel(\"Longitude\")\n",
    "plt.ylabel(\"Latitude\")\n",
    "plt.grid()\n",
    "plt.show()"
   ]
  },
  {
   "cell_type": "code",
   "execution_count": 32,
   "id": "85050da9-6b5e-4a07-a7c7-37ae64b38949",
   "metadata": {},
   "outputs": [
    {
     "name": "stdout",
     "output_type": "stream",
     "text": [
      "Collecting folium\n",
      "  Downloading folium-0.18.0-py2.py3-none-any.whl.metadata (3.8 kB)\n",
      "Collecting branca>=0.6.0 (from folium)\n",
      "  Downloading branca-0.8.0-py3-none-any.whl.metadata (1.5 kB)\n",
      "Requirement already satisfied: jinja2>=2.9 in /Library/Frameworks/Python.framework/Versions/3.11/lib/python3.11/site-packages (from folium) (3.1.4)\n",
      "Requirement already satisfied: numpy in /Library/Frameworks/Python.framework/Versions/3.11/lib/python3.11/site-packages (from folium) (2.1.3)\n",
      "Requirement already satisfied: requests in /Library/Frameworks/Python.framework/Versions/3.11/lib/python3.11/site-packages (from folium) (2.32.3)\n",
      "Collecting xyzservices (from folium)\n",
      "  Downloading xyzservices-2024.9.0-py3-none-any.whl.metadata (4.1 kB)\n",
      "Requirement already satisfied: MarkupSafe>=2.0 in /Library/Frameworks/Python.framework/Versions/3.11/lib/python3.11/site-packages (from jinja2>=2.9->folium) (3.0.1)\n",
      "Requirement already satisfied: charset-normalizer<4,>=2 in /Library/Frameworks/Python.framework/Versions/3.11/lib/python3.11/site-packages (from requests->folium) (3.4.0)\n",
      "Requirement already satisfied: idna<4,>=2.5 in /Library/Frameworks/Python.framework/Versions/3.11/lib/python3.11/site-packages (from requests->folium) (3.10)\n",
      "Requirement already satisfied: urllib3<3,>=1.21.1 in /Library/Frameworks/Python.framework/Versions/3.11/lib/python3.11/site-packages (from requests->folium) (2.2.3)\n",
      "Requirement already satisfied: certifi>=2017.4.17 in /Library/Frameworks/Python.framework/Versions/3.11/lib/python3.11/site-packages (from requests->folium) (2024.8.30)\n",
      "Downloading folium-0.18.0-py2.py3-none-any.whl (108 kB)\n",
      "Downloading branca-0.8.0-py3-none-any.whl (25 kB)\n",
      "Downloading xyzservices-2024.9.0-py3-none-any.whl (85 kB)\n",
      "Installing collected packages: xyzservices, branca, folium\n",
      "Successfully installed branca-0.8.0 folium-0.18.0 xyzservices-2024.9.0\n"
     ]
    }
   ],
   "source": [
    "!pip install folium"
   ]
  },
  {
   "cell_type": "code",
   "execution_count": 3,
   "id": "656a9fc4-ec59-4d30-8772-d8c25afdd05c",
   "metadata": {},
   "outputs": [],
   "source": [
    "import folium\n",
    "\n",
    "# Stichprobe aus dem Datensatz ziehen (z. B. 1000 zufällige Punkte)\n",
    "sampled_data = df.sample(n=1000, random_state=42)  # Stichprobengröße: 1000\n",
    "\n",
    "# Mittelpunkt der Karte basierend auf der Stichprobe berechnen\n",
    "mean_lat = sampled_data['Latitude'].mean()\n",
    "mean_lon = sampled_data['Longitude'].mean()\n",
    "\n",
    "# Karte erstellen\n",
    "mymap = folium.Map(location=[mean_lat, mean_lon], zoom_start=6)\n",
    "\n",
    "# Marker für die Stichprobendaten hinzufügen\n",
    "for _, row in sampled_data.iterrows():\n",
    "    folium.Marker(location=[row['Latitude'], row['Longitude']], \n",
    "                  popup=row['Name']).add_to(mymap)\n",
    "\n",
    "# Karte speichern\n",
    "mymap.save(\"map.html\")"
   ]
  },
  {
   "cell_type": "code",
   "execution_count": null,
   "id": "99192c84-3ebe-4789-9948-b1c025f98773",
   "metadata": {},
   "outputs": [],
   "source": [
    "Die folgende Anweisung gibt eine Karte aus mit allen GPS-Koordinaten die das Schiff mit der MMSI Nummer 219000873 befahren hat"
   ]
  },
  {
   "cell_type": "code",
   "execution_count": 7,
   "id": "63d960b5-859a-4723-96d1-1b7eb2b59e26",
   "metadata": {},
   "outputs": [],
   "source": [
    "import folium\n",
    "\n",
    "# Filter für ein bestimmtes Schiff\n",
    "mmsi_number = 219000873  # Name des Schiffs\n",
    "filtered_data = df[df['MMSI'] == mmsi_number]\n",
    "\n",
    "# Mittelpunkt der Karte basierend auf den gefilterten Daten berechnen\n",
    "mean_lat = filtered_data['Latitude'].mean()\n",
    "mean_lon = filtered_data['Longitude'].mean()\n",
    "\n",
    "# Karte erstellen\n",
    "mymap = folium.Map(location=[mean_lat, mean_lon], zoom_start=10)\n",
    "\n",
    "# Marker für das gefilterte Schiff hinzufügen\n",
    "for _, row in filtered_data.iterrows():\n",
    "    folium.Marker(location=[row['Latitude'], row['Longitude']], \n",
    "                  popup=f\"{row['Name']} (MMSI: {row['MMSI']})\").add_to(mymap)\n",
    "\n",
    "# Karte speichern\n",
    "mymap.save(\"map_filtered.html\")"
   ]
  },
  {
   "cell_type": "code",
   "execution_count": null,
   "id": "1232bf71-c707-4adf-ad3f-ebd71843f9c1",
   "metadata": {},
   "outputs": [],
   "source": []
  },
  {
   "cell_type": "code",
   "execution_count": null,
   "id": "02568561-3e68-4fca-b426-b55ec5fcd061",
   "metadata": {},
   "outputs": [],
   "source": [
    "Die folgende Anweisung gibt eine Karte aus mit allen den verschiedenen Routen die das Schiff mit der MMSI Nummer 219000873 befahren hat"
   ]
  },
  {
   "cell_type": "code",
   "execution_count": 11,
   "id": "c9ac0e24-d9c4-4a8e-9794-9bfe44248d82",
   "metadata": {},
   "outputs": [],
   "source": [
    "import folium\n",
    "\n",
    "# Beispiel-Daten für ein bestimmtes Schiff filtern (ersetze \"123456789\" mit der gewünschten MMSI)\n",
    "mmsi_number = 219000873\n",
    "filtered_data = df[df['MMSI'] == mmsi_number]\n",
    "\n",
    "# Karte initialisieren\n",
    "mean_lat = filtered_data['Latitude'].mean()\n",
    "mean_lon = filtered_data['Longitude'].mean()\n",
    "mymap = folium.Map(location=[mean_lat, mean_lon], zoom_start=8)\n",
    "\n",
    "# Liste von Koordinaten für die Route\n",
    "route_coords = list(zip(filtered_data['Latitude'], filtered_data['Longitude']))\n",
    "\n",
    "# Route zur Karte hinzufügen\n",
    "folium.PolyLine(route_coords, color=\"blue\", weight=2.5, opacity=1).add_to(mymap)\n",
    "\n",
    "# Karte speichern oder anzeigen\n",
    "mymap.save(\"route_map.html\")"
   ]
  },
  {
   "cell_type": "code",
   "execution_count": null,
   "id": "521abd80-4b56-4e81-9f92-306b60744058",
   "metadata": {},
   "outputs": [],
   "source": [
    "Dieser Code gibt an wie viele GPS Koordinaten ein bestimmtes Schiff (MMSI: 219000873) hat:"
   ]
  },
  {
   "cell_type": "code",
   "execution_count": 12,
   "id": "d3aa898f-7304-4bd6-9e0d-909f2866442b",
   "metadata": {},
   "outputs": [
    {
     "name": "stdout",
     "output_type": "stream",
     "text": [
      "The ship with MMSI 219000873 has 7009 GPS coordinates.\n"
     ]
    }
   ],
   "source": [
    "# MMSI-Nummer des Schiffs\n",
    "mmsi_number = 219000873\n",
    "\n",
    "# Daten für das spezifische Schiff filtern\n",
    "filtered_data = df[df['MMSI'] == mmsi_number]\n",
    "\n",
    "# Anzahl der GPS-Koordinaten berechnen\n",
    "num_coordinates = len(filtered_data)\n",
    "\n",
    "print(f\"The ship with MMSI {mmsi_number} has {num_coordinates} GPS coordinates.\")"
   ]
  },
  {
   "cell_type": "code",
   "execution_count": 25,
   "id": "88e83312-d14a-4e44-9472-53113ac8c53a",
   "metadata": {},
   "outputs": [
    {
     "ename": "TypeError",
     "evalue": "can only concatenate str (not \"Timedelta\") to str",
     "output_type": "error",
     "traceback": [
      "\u001b[0;31m---------------------------------------------------------------------------\u001b[0m",
      "\u001b[0;31mTypeError\u001b[0m                                 Traceback (most recent call last)",
      "Cell \u001b[0;32mIn[25], line 24\u001b[0m\n\u001b[1;32m     15\u001b[0m \u001b[38;5;28;01melse\u001b[39;00m:\n\u001b[1;32m     16\u001b[0m     \u001b[38;5;66;03m# Hier gehen wir davon aus, dass jede Route durch einen bestimmten Zeitbereich oder Abstand der GPS-Daten definiert ist.\u001b[39;00m\n\u001b[1;32m     17\u001b[0m     \u001b[38;5;66;03m# Beispiel: Wir unterteilen die Daten in verschiedene Routen, basierend auf einem Zeitintervall.\u001b[39;00m\n\u001b[0;32m   (...)\u001b[0m\n\u001b[1;32m     21\u001b[0m     \n\u001b[1;32m     22\u001b[0m     \u001b[38;5;66;03m# Wähle zum Beispiel den ersten 2 Stunden-Zeitraum als eine Route aus\u001b[39;00m\n\u001b[1;32m     23\u001b[0m     route_start_time \u001b[38;5;241m=\u001b[39m filtered_data[\u001b[38;5;124m'\u001b[39m\u001b[38;5;124m# Timestamp\u001b[39m\u001b[38;5;124m'\u001b[39m]\u001b[38;5;241m.\u001b[39miloc[\u001b[38;5;241m0\u001b[39m]  \u001b[38;5;66;03m# Anfang der Route\u001b[39;00m\n\u001b[0;32m---> 24\u001b[0m     route_end_time \u001b[38;5;241m=\u001b[39m \u001b[43mroute_start_time\u001b[49m\u001b[43m \u001b[49m\u001b[38;5;241;43m+\u001b[39;49m\u001b[43m \u001b[49m\u001b[43mpd\u001b[49m\u001b[38;5;241;43m.\u001b[39;49m\u001b[43mTimedelta\u001b[49m\u001b[43m(\u001b[49m\u001b[43mhours\u001b[49m\u001b[38;5;241;43m=\u001b[39;49m\u001b[38;5;241;43m2\u001b[39;49m\u001b[43m)\u001b[49m  \u001b[38;5;66;03m# Ende der Route (z.B. nach 2 Stunden)\u001b[39;00m\n\u001b[1;32m     26\u001b[0m     \u001b[38;5;66;03m# Filtere die Daten nach dieser Zeitspanne\u001b[39;00m\n\u001b[1;32m     27\u001b[0m     route_data \u001b[38;5;241m=\u001b[39m filtered_data[(filtered_data[\u001b[38;5;124m'\u001b[39m\u001b[38;5;124m# Timestamp\u001b[39m\u001b[38;5;124m'\u001b[39m] \u001b[38;5;241m>\u001b[39m\u001b[38;5;241m=\u001b[39m route_start_time) \u001b[38;5;241m&\u001b[39m (filtered_data[\u001b[38;5;124m'\u001b[39m\u001b[38;5;124m# Timestamp\u001b[39m\u001b[38;5;124m'\u001b[39m] \u001b[38;5;241m<\u001b[39m\u001b[38;5;241m=\u001b[39m route_end_time)]\n",
      "\u001b[0;31mTypeError\u001b[0m: can only concatenate str (not \"Timedelta\") to str"
     ]
    }
   ],
   "source": [
    "import folium\n",
    "from folium import PolyLine\n",
    "\n",
    "# Setze die MMSI, nach der du filtern möchtest\n",
    "mmsi_to_filter = 219000873  # Ersetze dies mit der tatsächlichen MMSI des Schiffes\n",
    "\n",
    "# Filtere die Daten nach der MMSI-Nummer und sortiere nach Timestamp\n",
    "filtered_data = df[df['MMSI'] == mmsi_to_filter].sort_values(by='# Timestamp')\n",
    "\n",
    "# Prüfen, ob es Daten für dieses Schiff gibt\n",
    "if filtered_data.empty:\n",
    "    print(f\"No data available for MMSI: {mmsi_to_filter}\")\n",
    "else:\n",
    "    # Hier gehen wir davon aus, dass jede Route durch einen bestimmten Zeitbereich oder Abstand der GPS-Daten definiert ist.\n",
    "    # Beispiel: Wir unterteilen die Daten in verschiedene Routen, basierend auf einem Zeitintervall.\n",
    "\n",
    "    # Beispiel für eine Methode zur Identifikation einer einzelnen Route:\n",
    "    # Die Route wird als alle GPS-Daten zwischen zwei bestimmten Timestamps oder einer Zeitspanne definiert.\n",
    "    \n",
    "    # Wähle zum Beispiel den ersten 2 Stunden-Zeitraum als eine Route aus\n",
    "    route_start_time = filtered_data['# Timestamp'].iloc[0]  # Anfang der Route\n",
    "    route_end_time = route_start_time + pd.Timedelta(hours=2)  # Ende der Route (z.B. nach 2 Stunden)\n",
    "\n",
    "    # Filtere die Daten nach dieser Zeitspanne\n",
    "    route_data = filtered_data[(filtered_data['# Timestamp'] >= route_start_time) & (filtered_data['# Timestamp'] <= route_end_time)]\n",
    "\n",
    "    # Berechne den Mittelpunkt der Karte (Durchschnitt von Latitude und Longitude)\n",
    "    mean_lat = route_data['Latitude'].mean()\n",
    "    mean_lon = route_data['Longitude'].mean()\n",
    "\n",
    "    # Erstelle die Karte\n",
    "    mymap = folium.Map(location=[mean_lat, mean_lon], zoom_start=14)\n",
    "\n",
    "    # Erstelle eine Liste von Koordinaten (Latitude, Longitude) für diese Route\n",
    "    route_coordinates = list(zip(route_data['Latitude'], route_data['Longitude']))\n",
    "\n",
    "    # Prüfen, ob genug Koordinaten vorhanden sind, um eine Linie zu erstellen\n",
    "    if len(route_coordinates) > 1:\n",
    "        # Füge die Route als Polyline hinzu (blau und 2,5 px dick)\n",
    "        PolyLine(route_coordinates, color=\"blue\", weight=2.5, opacity=1).add_to(mymap)\n",
    "    else:\n",
    "        print(\"Nicht genug Koordinaten, um eine Route zu erstellen.\")\n",
    "\n",
    "    # Speichere die Karte\n",
    "    mymap.save(\"single_route.html\")\n",
    "    print(\"Map with route saved as single_route.html\")"
   ]
  },
  {
   "cell_type": "code",
   "execution_count": null,
   "id": "a5e1fe9a-62db-4588-98d9-b27695206b74",
   "metadata": {},
   "outputs": [],
   "source": []
  }
 ],
 "metadata": {
  "kernelspec": {
   "display_name": "Python 3 (ipykernel)",
   "language": "python",
   "name": "python3"
  },
  "language_info": {
   "codemirror_mode": {
    "name": "ipython",
    "version": 3
   },
   "file_extension": ".py",
   "mimetype": "text/x-python",
   "name": "python",
   "nbconvert_exporter": "python",
   "pygments_lexer": "ipython3",
   "version": "3.11.5"
  }
 },
 "nbformat": 4,
 "nbformat_minor": 5
}
