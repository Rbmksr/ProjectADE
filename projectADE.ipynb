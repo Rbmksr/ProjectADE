{
 "cells": [
  {
   "cell_type": "markdown",
   "metadata": {},
   "source": [
    "# Project Advanced Data Engineering"
   ]
  },
  {
   "cell_type": "markdown",
   "metadata": {},
   "source": [
    "### Data Source - Historical Danish AIS Data\n",
    "\n",
    "Link to data source: https://web.ais.dk/aisdata/\n",
    "\n",
    "AIS:\n",
    "\n",
    "AIS (automatic identification system) is a system using transceivers on ships to serve as a method of collision avoidance."
   ]
  },
  {
   "cell_type": "markdown",
   "metadata": {},
   "source": [
    "### Use Case - Visualize vessel location"
   ]
  },
  {
   "cell_type": "markdown",
   "metadata": {},
   "source": [
    "### **Scaling**"
   ]
  },
  {
   "cell_type": "markdown",
   "metadata": {},
   "source": [
    "#### Why is the problem a big data problem?\n"
   ]
  },
  {
   "cell_type": "markdown",
   "metadata": {},
   "source": [
    "#### Why can’t you solve it traditional storage/analytics/database technologies?\n",
    "\n",
    "• Scalability: Traditional databases struggle with vast amounts of data.\n",
    "• Real-time: Need for real-time processing, not suited for RDBMS."
   ]
  },
  {
   "cell_type": "markdown",
   "metadata": {},
   "source": [
    "#### What happens when the amount of data increases in the orders of magnitude?\n",
    "\n",
    "• Storage: Traditional systems can’t handle large-scale data.\n",
    "• Performance: Queries slow down without distributed systems.\n",
    "• Complex Queries: Need optimized systems like Spark for efficient querying."
   ]
  },
  {
   "cell_type": "markdown",
   "metadata": {},
   "source": [
    "#### What happens if request or query intake increases ore latency conditions decrease in magnitude?\n",
    "\n",
    "• High Load: Traditional systems fail with many requests.\n",
    "• Latency: Real-time demands require fast, distributed systems (e.g., Spark)."
   ]
  },
  {
   "cell_type": "markdown",
   "metadata": {},
   "source": [
    "#### How does the \"data\" run through the system?"
   ]
  },
  {
   "cell_type": "markdown",
   "metadata": {},
   "source": [
    "### **Fault Tolerance**"
   ]
  },
  {
   "cell_type": "markdown",
   "metadata": {},
   "source": [
    "### **Implementation**"
   ]
  },
  {
   "cell_type": "markdown",
   "metadata": {},
   "source": [
    "Test123\n"
   ]
  }
 ],
 "metadata": {
  "kernelspec": {
   "display_name": "Python 3 (ipykernel)",
   "language": "python",
   "name": "python3"
  },
  "language_info": {
   "codemirror_mode": {
    "name": "ipython",
    "version": 3
   },
   "file_extension": ".py",
   "mimetype": "text/x-python",
   "name": "python",
   "nbconvert_exporter": "python",
   "pygments_lexer": "ipython3",
   "version": "3.11.5"
  }
 },
 "nbformat": 4,
 "nbformat_minor": 4
}
